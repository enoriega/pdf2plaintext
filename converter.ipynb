{
 "cells": [
  {
   "attachments": {},
   "cell_type": "markdown",
   "metadata": {},
   "source": [
    "# Example to convert pdf document to plain text for annotations"
   ]
  },
  {
   "cell_type": "code",
   "execution_count": 1,
   "metadata": {},
   "outputs": [],
   "source": [
    "from PyPDF2 import PdfReader\n",
    "import spacy\n",
    "\n",
    "def get_text_from_pdf(path):\n",
    "    nlp = spacy.load('en_core_web_sm')\n",
    "    reader = PdfReader(path)\n",
    "    sentences = list()\n",
    "    for page in reader.pages:\n",
    "        txt = page.extract_text()\n",
    "        doc = nlp(txt)\n",
    "        sentences.extend(str(s) for s in doc.sents)\n",
    "    return '\\n'.join(sentences)\n",
    "        \n"
   ]
  },
  {
   "cell_type": "code",
   "execution_count": 2,
   "metadata": {},
   "outputs": [],
   "source": [
    "def get_text_from_txt(path):\n",
    "\tnlp = spacy.load('en_core_web_sm')\n",
    "\twith open(path) as f:\n",
    "\t\tlines = f.readlines()\n",
    "\n",
    "\t\tsentences = list()\n",
    "\t\tfor line in lines:\n",
    "\t\t\tdoc = nlp(line)\n",
    "\t\t\tsentences.extend(str(s) for s in doc.sents)\n",
    "\treturn '\\n'.join(sentences)"
   ]
  },
  {
   "cell_type": "code",
   "execution_count": 6,
   "metadata": {},
   "outputs": [],
   "source": [
    "\n",
    "path = \"/Users/enoriega/Library/CloudStorage/GoogleDrive-enoriega@arizona.edu/.shortcut-targets-by-id/1G3e0Hvo6vNcn6iiPqbz-k8J3FOmQ-xGJ/ASKEM-SKEMA/dev/METAL-validation/Chapter 7/chapter7.txt\"\n",
    "x = get_text_from_txt(path)"
   ]
  },
  {
   "cell_type": "code",
   "execution_count": 7,
   "metadata": {},
   "outputs": [],
   "source": [
    "from pathlib import Path\n",
    "\n",
    "new_path = Path(path + \"_sentences.txt\")\n",
    "\n",
    "with new_path.open('w') as f:\n",
    "\tf.write(x)"
   ]
  },
  {
   "cell_type": "code",
   "execution_count": 4,
   "metadata": {},
   "outputs": [],
   "source": [
    "from pathlib import Path\n",
    "\n",
    "# dir_ = \"/Users/enoriega/Library/CloudStorage/GoogleDrive-enoriega@arizona.edu/.shortcut-targets-by-id/1G3e0Hvo6vNcn6iiPqbz-k8J3FOmQ-xGJ/ASKEM-SKEMA/dev/METAL-validation/\"\n",
    "dir_ = \"/Users/enoriega/Desktop/gentlenlp\"\n",
    "files = list(Path(dir_).glob(\"**/chapter*.txt\"))\n",
    "for file in files:\n",
    "    new_file = file.parent / (file.stem + \"_sentences.txt\")\n",
    "    sents = get_text_from_txt(str(file))\n",
    "    with new_file.open(\"w\") as f:\n",
    "        f.write(sents)\n"
   ]
  },
  {
   "cell_type": "code",
   "execution_count": null,
   "metadata": {},
   "outputs": [],
   "source": []
  }
 ],
 "metadata": {
  "kernelspec": {
   "display_name": "METAL",
   "language": "python",
   "name": "python3"
  },
  "language_info": {
   "codemirror_mode": {
    "name": "ipython",
    "version": 3
   },
   "file_extension": ".py",
   "mimetype": "text/x-python",
   "name": "python",
   "nbconvert_exporter": "python",
   "pygments_lexer": "ipython3",
   "version": "3.11.3"
  },
  "orig_nbformat": 4
 },
 "nbformat": 4,
 "nbformat_minor": 2
}
